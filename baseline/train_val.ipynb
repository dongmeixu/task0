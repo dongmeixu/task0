{
 "cells": [
  {
   "cell_type": "markdown",
   "metadata": {},
   "source": [
    "## 1 import packages"
   ]
  },
  {
   "cell_type": "code",
   "execution_count": 1,
   "metadata": {
    "scrolled": true
   },
   "outputs": [
    {
     "name": "stderr",
     "output_type": "stream",
     "text": [
      "/search/odin/yangyuran/program/Anaconda3/envs/tensorflow/lib/python3.6/importlib/_bootstrap.py:219: RuntimeWarning: compiletime version 3.5 of module 'tensorflow.python.framework.fast_tensor_util' does not match runtime version 3.6\n",
      "  return f(*args, **kwds)\n",
      "/search/odin/yangyuran/program/Anaconda3/envs/tensorflow/lib/python3.6/site-packages/h5py/__init__.py:36: FutureWarning: Conversion of the second argument of issubdtype from `float` to `np.floating` is deprecated. In future, it will be treated as `np.float64 == np.dtype(float).type`.\n",
      "  from ._conv import register_converters as _register_converters\n"
     ]
    }
   ],
   "source": [
    "#!/usr/bin/env python\n",
    "# coding=utf-8\n",
    "from __future__ import absolute_import\n",
    "from __future__ import division\n",
    "from __future__ import print_function\n",
    "# sys.path.append(\"/search/odin/yangyuran/program/Anaconda3/envs/tensorflow/lib/python3.6/site-packages/\")\n",
    "\n",
    "\n",
    "import datetime\n",
    "import os\n",
    "\n",
    "import numpy as np\n",
    "import math\n",
    "import tensorflow as tf\n",
    "import data_process\n",
    "import model\n",
    "import time\n",
    "import matplotlib.image as mping\n",
    "import pandas as pd\n",
    "\n",
    "from sklearn.preprocessing import OneHotEncoder"
   ]
  },
  {
   "cell_type": "markdown",
   "metadata": {},
   "source": [
    "## 2 指定参数"
   ]
  },
  {
   "cell_type": "code",
   "execution_count": 2,
   "metadata": {},
   "outputs": [],
   "source": [
    "os.environ['CUDA_VISIBLE_DEVICES'] = '1'\n",
    "\n",
    "N_CLASSES = 2\n",
    "IMG_W = 256  # resize the image, if the input image is too large, training will be very slow.\n",
    "IMG_H = 256\n",
    "IMG_C = 3\n",
    "RATIO = 0.2  # take 20% of dataset as validation data\n",
    "BATCH_SIZE = 64\n",
    "CAPACITY = 100 + 3 * BATCH_SIZE\n",
    "MAX_STEP = 3000  # with current parameters, it is suggested to use MAX_STEP>10k\n",
    "learning_rate = 0.0001  # with current parameters, it is suggested to use learning rate<0.0001\n",
    "\n",
    "train_dir = '/search/odin/xudongmei/working/datasets/bak2_crop/train_split/'\n",
    "test_dir = '/search/odin/xudongmei/working/datasets/bak2_crop/test_split/'\n",
    "logs_train_dir = './logs/train/batch_size=64/'\n",
    "logs_val_dir = './logs/val/batch_size=64/'\n",
    "LOGNAME = 'maps'"
   ]
  },
  {
   "cell_type": "markdown",
   "metadata": {},
   "source": [
    "## 3. training()"
   ]
  },
  {
   "cell_type": "code",
   "execution_count": 3,
   "metadata": {},
   "outputs": [],
   "source": [
    "def run_training():\n",
    "    with tf.Graph().as_default():\n",
    "        train, train_label, val, val_label = data_process.get_files(train_dir, RATIO)\n",
    "\n",
    "        train_batch, train_label_batch = data_process.get_batch(train,\n",
    "                                                                train_label,\n",
    "                                                                IMG_W,\n",
    "                                                                IMG_H,\n",
    "                                                                BATCH_SIZE,\n",
    "                                                                CAPACITY)\n",
    "        val_batch, val_label_batch = data_process.get_batch(val,\n",
    "                                                            val_label,\n",
    "                                                            IMG_W,\n",
    "                                                            IMG_H,\n",
    "                                                            BATCH_SIZE,\n",
    "                                                            CAPACITY)\n",
    "\n",
    "        # 输入数据的命名空间\n",
    "        with tf.name_scope(\"Input\"):\n",
    "            features = tf.placeholder(tf.float32, shape=[BATCH_SIZE, IMG_W, IMG_H, IMG_C], name=\"X_features\")\n",
    "            labels = tf.placeholder(tf.int32, shape=[BATCH_SIZE], name=\"Y_label\")\n",
    "            keep_prob = tf.placeholder(tf.float32, name='Keep_prob')\n",
    "            one_hot_labels = tf.one_hot(indices=tf.cast(labels, tf.int32), depth=N_CLASSES)\n",
    "\n",
    "        # print(features.shape)\n",
    "        # print(labels.shape)\n",
    "        # print(one_hot_labels.shape)\n",
    "\n",
    "        train_step, cross_entropy, logits, keep_prob = model.inference(features, one_hot_labels, BATCH_SIZE, N_CLASSES)\n",
    "\n",
    "        accuracy = model.evaluation(logits, one_hot_labels)\n",
    "\n",
    "        with tf.Session() as sess:\n",
    "            saver = tf.train.Saver()\n",
    "\n",
    "            sess.run(tf.global_variables_initializer())\n",
    "\n",
    "            coord = tf.train.Coordinator()\n",
    "            threads = tf.train.start_queue_runners(sess=sess, coord=coord)\n",
    "\n",
    "            summary_op = tf.summary.merge_all()\n",
    "            train_writer = tf.summary.FileWriter(logs_train_dir, sess.graph)\n",
    "            val_writer = tf.summary.FileWriter(logs_val_dir)\n",
    "\n",
    "            logger = data_process.train_log(LOGNAME)\n",
    "\n",
    "            try:\n",
    "                train_total_loss = 0.0\n",
    "                train_total_acc = 0.0\n",
    "                val_total_loss = 0.0\n",
    "                val_total_acc = 0.0\n",
    "                \n",
    "                for step in np.arange(MAX_STEP):\n",
    "                    if coord.should_stop():\n",
    "                        break\n",
    "                    start_time = time.time()\n",
    "                    \n",
    "                    tra_images, tra_labels = sess.run([train_batch, train_label_batch])\n",
    "                    _, tra_loss, tra_acc = sess.run([train_step, cross_entropy, accuracy],\n",
    "                                                 feed_dict={features: tra_images, labels: tra_labels, keep_prob: 0.5})\n",
    "                    train_total_loss += tra_loss\n",
    "                    train_total_acc += tra_acc\n",
    "                    \n",
    "                    val_images, val_labels = sess.run([val_batch, val_label_batch])\n",
    "                    val_loss, val_acc = sess.run([cross_entropy, accuracy],\n",
    "                                                 feed_dict={features: val_images, labels: val_labels,\n",
    "                                                            keep_prob: 0.5})\n",
    "                    val_total_loss += val_loss\n",
    "                    val_total_acc += val_acc\n",
    "                    \n",
    "                    if step % 50 == 0:\n",
    "                        duration = time.time() - start_time\n",
    "                        logger.info(\"step %d: training accuracy %g, loss is %g (%0.3f sec)\" % (\n",
    "                            step, tra_acc, tra_loss, duration))\n",
    "\n",
    "                        summary_str = sess.run(summary_op,\n",
    "                                               feed_dict={features: tra_images, labels: tra_labels, keep_prob: 0.5})\n",
    "                        train_writer.add_summary(summary_str, step)\n",
    "\n",
    "                    if step % 100 == 0 or (step + 1) == MAX_STEP:\n",
    "                        duration = time.time() - start_time\n",
    "                        logger.info(\"step %d: validation accuracy %g, loss is %g (%0.3f sec)\" % (\n",
    "                            step, tra_acc, tra_loss, duration))\n",
    "\n",
    "                        summary_str = sess.run(summary_op,\n",
    "                                               feed_dict={features: val_images, labels: val_labels, keep_prob: 0.5})\n",
    "                        val_writer.add_summary(summary_str, step)\n",
    "\n",
    "                    if step % 1000 == 0 or (step + 1) == MAX_STEP:\n",
    "                        checkpoint_path = os.path.join(logs_train_dir, 'model.ckpt')\n",
    "                        saver.save(sess, checkpoint_path, global_step=step)\n",
    "                        \n",
    "                print(\"Average loss in training set:\", train_total_loss / MAX_STEP)\n",
    "                print(\"Average acc in training set:\", train_total_acc / MAX_STEP)\n",
    "                print(\"Average loss in val set:\", val_total_loss / MAX_STEP)\n",
    "                print(\"Average loss in val set:\", val_total_acc / MAX_STEP)\n",
    "                      \n",
    "            except tf.errors.OutOfRangeError:\n",
    "                print('Done training -- epoch limit reached')\n",
    "            finally:\n",
    "                coord.request_stop()\n",
    "            coord.join(threads)"
   ]
  },
  {
   "cell_type": "code",
   "execution_count": null,
   "metadata": {},
   "outputs": [
    {
     "name": "stdout",
     "output_type": "stream",
     "text": [
      "Starting baidu2_crop images\n",
      "Starting sogou2_crop images\n",
      "# training samples: 3904, # validation samples: 976\n"
     ]
    },
    {
     "name": "stderr",
     "output_type": "stream",
     "text": [
      "Mon 28 May 2018 21:25:01 INFO <ipython-input-3-fd2e0f5d7f53> 59 75480 step 0: training accuracy 0.4375, loss is 7.11028 (1.680 sec)\n"
     ]
    },
    {
     "name": "stdout",
     "output_type": "stream",
     "text": [
      "Step 0, train loss = 7.11, train accuracy = 43.75%\n"
     ]
    },
    {
     "name": "stderr",
     "output_type": "stream",
     "text": [
      "Mon 28 May 2018 21:25:01 INFO <ipython-input-3-fd2e0f5d7f53> 76 75480 step 0: validation accuracy 0.4375, loss is 7.11028 (2.210 sec)\n"
     ]
    },
    {
     "name": "stdout",
     "output_type": "stream",
     "text": [
      "**  Step 0, val loss = 6.12, val accuracy = 42.19%  **\n"
     ]
    },
    {
     "name": "stderr",
     "output_type": "stream",
     "text": [
      "Mon 28 May 2018 21:25:07 INFO <ipython-input-3-fd2e0f5d7f53> 59 75480 step 50: training accuracy 0.421875, loss is 6.79094 (0.119 sec)\n"
     ]
    },
    {
     "name": "stdout",
     "output_type": "stream",
     "text": [
      "Step 50, train loss = 6.79, train accuracy = 42.19%\n"
     ]
    },
    {
     "name": "stderr",
     "output_type": "stream",
     "text": [
      "Mon 28 May 2018 21:25:13 INFO <ipython-input-3-fd2e0f5d7f53> 59 75480 step 100: training accuracy 0.453125, loss is 6.10071 (0.125 sec)\n"
     ]
    },
    {
     "name": "stdout",
     "output_type": "stream",
     "text": [
      "Step 100, train loss = 6.10, train accuracy = 45.31%\n"
     ]
    },
    {
     "name": "stderr",
     "output_type": "stream",
     "text": [
      "Mon 28 May 2018 21:25:14 INFO <ipython-input-3-fd2e0f5d7f53> 76 75480 step 100: validation accuracy 0.453125, loss is 6.10071 (0.360 sec)\n"
     ]
    },
    {
     "name": "stdout",
     "output_type": "stream",
     "text": [
      "**  Step 100, val loss = 5.85, val accuracy = 51.56%  **\n"
     ]
    },
    {
     "name": "stderr",
     "output_type": "stream",
     "text": [
      "Mon 28 May 2018 21:25:19 INFO <ipython-input-3-fd2e0f5d7f53> 59 75480 step 150: training accuracy 0.34375, loss is 6.2744 (0.120 sec)\n"
     ]
    },
    {
     "name": "stdout",
     "output_type": "stream",
     "text": [
      "Step 150, train loss = 6.27, train accuracy = 34.38%\n"
     ]
    },
    {
     "name": "stderr",
     "output_type": "stream",
     "text": [
      "Mon 28 May 2018 21:25:25 INFO <ipython-input-3-fd2e0f5d7f53> 59 75480 step 200: training accuracy 0.5, loss is 5.64608 (0.122 sec)\n"
     ]
    },
    {
     "name": "stdout",
     "output_type": "stream",
     "text": [
      "Step 200, train loss = 5.65, train accuracy = 50.00%\n"
     ]
    },
    {
     "name": "stderr",
     "output_type": "stream",
     "text": [
      "Mon 28 May 2018 21:25:26 INFO <ipython-input-3-fd2e0f5d7f53> 76 75480 step 200: validation accuracy 0.5, loss is 5.64608 (0.344 sec)\n"
     ]
    },
    {
     "name": "stdout",
     "output_type": "stream",
     "text": [
      "**  Step 200, val loss = 5.91, val accuracy = 45.31%  **\n"
     ]
    },
    {
     "name": "stderr",
     "output_type": "stream",
     "text": [
      "Mon 28 May 2018 21:25:32 INFO <ipython-input-3-fd2e0f5d7f53> 59 75480 step 250: training accuracy 0.453125, loss is 6.18339 (0.116 sec)\n"
     ]
    },
    {
     "name": "stdout",
     "output_type": "stream",
     "text": [
      "Step 250, train loss = 6.18, train accuracy = 45.31%\n"
     ]
    },
    {
     "name": "stderr",
     "output_type": "stream",
     "text": [
      "Mon 28 May 2018 21:25:38 INFO <ipython-input-3-fd2e0f5d7f53> 59 75480 step 300: training accuracy 0.40625, loss is 7.98752 (0.117 sec)\n"
     ]
    },
    {
     "name": "stdout",
     "output_type": "stream",
     "text": [
      "Step 300, train loss = 7.99, train accuracy = 40.62%\n"
     ]
    },
    {
     "name": "stderr",
     "output_type": "stream",
     "text": [
      "Mon 28 May 2018 21:25:38 INFO <ipython-input-3-fd2e0f5d7f53> 76 75480 step 300: validation accuracy 0.40625, loss is 7.98752 (0.321 sec)\n"
     ]
    },
    {
     "name": "stdout",
     "output_type": "stream",
     "text": [
      "**  Step 300, val loss = 6.32, val accuracy = 43.75%  **\n"
     ]
    },
    {
     "name": "stderr",
     "output_type": "stream",
     "text": [
      "Mon 28 May 2018 21:25:44 INFO <ipython-input-3-fd2e0f5d7f53> 59 75480 step 350: training accuracy 0.21875, loss is 11.4935 (0.117 sec)\n"
     ]
    },
    {
     "name": "stdout",
     "output_type": "stream",
     "text": [
      "Step 350, train loss = 11.49, train accuracy = 21.88%\n"
     ]
    },
    {
     "name": "stderr",
     "output_type": "stream",
     "text": [
      "Mon 28 May 2018 21:25:50 INFO <ipython-input-3-fd2e0f5d7f53> 59 75480 step 400: training accuracy 0.453125, loss is 5.05662 (0.112 sec)\n"
     ]
    },
    {
     "name": "stdout",
     "output_type": "stream",
     "text": [
      "Step 400, train loss = 5.06, train accuracy = 45.31%\n"
     ]
    },
    {
     "name": "stderr",
     "output_type": "stream",
     "text": [
      "Mon 28 May 2018 21:25:50 INFO <ipython-input-3-fd2e0f5d7f53> 76 75480 step 400: validation accuracy 0.453125, loss is 5.05662 (0.360 sec)\n"
     ]
    },
    {
     "name": "stdout",
     "output_type": "stream",
     "text": [
      "**  Step 400, val loss = 6.34, val accuracy = 29.69%  **\n"
     ]
    },
    {
     "name": "stderr",
     "output_type": "stream",
     "text": [
      "Mon 28 May 2018 21:25:56 INFO <ipython-input-3-fd2e0f5d7f53> 59 75480 step 450: training accuracy 0.40625, loss is 5.60036 (0.118 sec)\n"
     ]
    },
    {
     "name": "stdout",
     "output_type": "stream",
     "text": [
      "Step 450, train loss = 5.60, train accuracy = 40.62%\n"
     ]
    },
    {
     "name": "stderr",
     "output_type": "stream",
     "text": [
      "Mon 28 May 2018 21:26:02 INFO <ipython-input-3-fd2e0f5d7f53> 59 75480 step 500: training accuracy 0.40625, loss is 7.74897 (0.110 sec)\n"
     ]
    },
    {
     "name": "stdout",
     "output_type": "stream",
     "text": [
      "Step 500, train loss = 7.75, train accuracy = 40.62%\n"
     ]
    },
    {
     "name": "stderr",
     "output_type": "stream",
     "text": [
      "Mon 28 May 2018 21:26:02 INFO <ipython-input-3-fd2e0f5d7f53> 76 75480 step 500: validation accuracy 0.40625, loss is 7.74897 (0.346 sec)\n"
     ]
    },
    {
     "name": "stdout",
     "output_type": "stream",
     "text": [
      "**  Step 500, val loss = 5.67, val accuracy = 45.31%  **\n"
     ]
    },
    {
     "name": "stderr",
     "output_type": "stream",
     "text": [
      "Mon 28 May 2018 21:26:08 INFO <ipython-input-3-fd2e0f5d7f53> 59 75480 step 550: training accuracy 0.3125, loss is 7.45191 (0.114 sec)\n"
     ]
    },
    {
     "name": "stdout",
     "output_type": "stream",
     "text": [
      "Step 550, train loss = 7.45, train accuracy = 31.25%\n"
     ]
    },
    {
     "name": "stderr",
     "output_type": "stream",
     "text": [
      "Mon 28 May 2018 21:26:14 INFO <ipython-input-3-fd2e0f5d7f53> 59 75480 step 600: training accuracy 0.4375, loss is 6.69704 (0.115 sec)\n"
     ]
    },
    {
     "name": "stdout",
     "output_type": "stream",
     "text": [
      "Step 600, train loss = 6.70, train accuracy = 43.75%\n"
     ]
    },
    {
     "name": "stderr",
     "output_type": "stream",
     "text": [
      "Mon 28 May 2018 21:26:15 INFO <ipython-input-3-fd2e0f5d7f53> 76 75480 step 600: validation accuracy 0.4375, loss is 6.69704 (0.351 sec)\n"
     ]
    },
    {
     "name": "stdout",
     "output_type": "stream",
     "text": [
      "**  Step 600, val loss = 5.94, val accuracy = 53.12%  **\n"
     ]
    },
    {
     "name": "stderr",
     "output_type": "stream",
     "text": [
      "Mon 28 May 2018 21:26:21 INFO <ipython-input-3-fd2e0f5d7f53> 59 75480 step 650: training accuracy 0.5, loss is 5.0185 (0.119 sec)\n"
     ]
    },
    {
     "name": "stdout",
     "output_type": "stream",
     "text": [
      "Step 650, train loss = 5.02, train accuracy = 50.00%\n"
     ]
    },
    {
     "name": "stderr",
     "output_type": "stream",
     "text": [
      "Mon 28 May 2018 21:26:27 INFO <ipython-input-3-fd2e0f5d7f53> 59 75480 step 700: training accuracy 0.375, loss is 6.88837 (0.115 sec)\n"
     ]
    },
    {
     "name": "stdout",
     "output_type": "stream",
     "text": [
      "Step 700, train loss = 6.89, train accuracy = 37.50%\n"
     ]
    },
    {
     "name": "stderr",
     "output_type": "stream",
     "text": [
      "Mon 28 May 2018 21:26:27 INFO <ipython-input-3-fd2e0f5d7f53> 76 75480 step 700: validation accuracy 0.375, loss is 6.88837 (0.320 sec)\n"
     ]
    },
    {
     "name": "stdout",
     "output_type": "stream",
     "text": [
      "**  Step 700, val loss = 4.55, val accuracy = 60.94%  **\n"
     ]
    },
    {
     "name": "stderr",
     "output_type": "stream",
     "text": [
      "Mon 28 May 2018 21:26:33 INFO <ipython-input-3-fd2e0f5d7f53> 59 75480 step 750: training accuracy 0.46875, loss is 5.96639 (0.115 sec)\n"
     ]
    },
    {
     "name": "stdout",
     "output_type": "stream",
     "text": [
      "Step 750, train loss = 5.97, train accuracy = 46.88%\n"
     ]
    },
    {
     "name": "stderr",
     "output_type": "stream",
     "text": [
      "Mon 28 May 2018 21:26:39 INFO <ipython-input-3-fd2e0f5d7f53> 59 75480 step 800: training accuracy 0.375, loss is 7.32117 (0.120 sec)\n"
     ]
    },
    {
     "name": "stdout",
     "output_type": "stream",
     "text": [
      "Step 800, train loss = 7.32, train accuracy = 37.50%\n"
     ]
    },
    {
     "name": "stderr",
     "output_type": "stream",
     "text": [
      "Mon 28 May 2018 21:26:39 INFO <ipython-input-3-fd2e0f5d7f53> 76 75480 step 800: validation accuracy 0.375, loss is 7.32117 (0.357 sec)\n"
     ]
    },
    {
     "name": "stdout",
     "output_type": "stream",
     "text": [
      "**  Step 800, val loss = 8.74, val accuracy = 32.81%  **\n"
     ]
    },
    {
     "name": "stderr",
     "output_type": "stream",
     "text": [
      "Mon 28 May 2018 21:26:45 INFO <ipython-input-3-fd2e0f5d7f53> 59 75480 step 850: training accuracy 0.453125, loss is 5.21671 (0.117 sec)\n"
     ]
    },
    {
     "name": "stdout",
     "output_type": "stream",
     "text": [
      "Step 850, train loss = 5.22, train accuracy = 45.31%\n"
     ]
    },
    {
     "name": "stderr",
     "output_type": "stream",
     "text": [
      "Mon 28 May 2018 21:26:51 INFO <ipython-input-3-fd2e0f5d7f53> 59 75480 step 900: training accuracy 0.53125, loss is 5.12722 (0.122 sec)\n"
     ]
    },
    {
     "name": "stdout",
     "output_type": "stream",
     "text": [
      "Step 900, train loss = 5.13, train accuracy = 53.12%\n"
     ]
    },
    {
     "name": "stderr",
     "output_type": "stream",
     "text": [
      "Mon 28 May 2018 21:26:51 INFO <ipython-input-3-fd2e0f5d7f53> 76 75480 step 900: validation accuracy 0.53125, loss is 5.12722 (0.381 sec)\n"
     ]
    },
    {
     "name": "stdout",
     "output_type": "stream",
     "text": [
      "**  Step 900, val loss = 5.38, val accuracy = 43.75%  **\n"
     ]
    },
    {
     "name": "stderr",
     "output_type": "stream",
     "text": [
      "Mon 28 May 2018 21:26:57 INFO <ipython-input-3-fd2e0f5d7f53> 59 75480 step 950: training accuracy 0.390625, loss is 7.16291 (0.115 sec)\n"
     ]
    },
    {
     "name": "stdout",
     "output_type": "stream",
     "text": [
      "Step 950, train loss = 7.16, train accuracy = 39.06%\n"
     ]
    },
    {
     "name": "stderr",
     "output_type": "stream",
     "text": [
      "Mon 28 May 2018 21:27:03 INFO <ipython-input-3-fd2e0f5d7f53> 59 75480 step 1000: training accuracy 0.46875, loss is 5.75612 (0.113 sec)\n"
     ]
    },
    {
     "name": "stdout",
     "output_type": "stream",
     "text": [
      "Step 1000, train loss = 5.76, train accuracy = 46.88%\n"
     ]
    },
    {
     "name": "stderr",
     "output_type": "stream",
     "text": [
      "Mon 28 May 2018 21:27:04 INFO <ipython-input-3-fd2e0f5d7f53> 76 75480 step 1000: validation accuracy 0.46875, loss is 5.75612 (0.361 sec)\n"
     ]
    },
    {
     "name": "stdout",
     "output_type": "stream",
     "text": [
      "**  Step 1000, val loss = 4.50, val accuracy = 57.81%  **\n"
     ]
    },
    {
     "name": "stderr",
     "output_type": "stream",
     "text": [
      "Mon 28 May 2018 21:27:10 INFO <ipython-input-3-fd2e0f5d7f53> 59 75480 step 1050: training accuracy 0.453125, loss is 5.72753 (0.120 sec)\n"
     ]
    },
    {
     "name": "stdout",
     "output_type": "stream",
     "text": [
      "Step 1050, train loss = 5.73, train accuracy = 45.31%\n"
     ]
    },
    {
     "name": "stderr",
     "output_type": "stream",
     "text": [
      "Mon 28 May 2018 21:27:16 INFO <ipython-input-3-fd2e0f5d7f53> 59 75480 step 1100: training accuracy 0.453125, loss is 5.26127 (0.117 sec)\n"
     ]
    },
    {
     "name": "stdout",
     "output_type": "stream",
     "text": [
      "Step 1100, train loss = 5.26, train accuracy = 45.31%\n"
     ]
    },
    {
     "name": "stderr",
     "output_type": "stream",
     "text": [
      "Mon 28 May 2018 21:27:16 INFO <ipython-input-3-fd2e0f5d7f53> 76 75480 step 1100: validation accuracy 0.453125, loss is 5.26127 (0.322 sec)\n"
     ]
    },
    {
     "name": "stdout",
     "output_type": "stream",
     "text": [
      "**  Step 1100, val loss = 6.53, val accuracy = 48.44%  **\n"
     ]
    },
    {
     "name": "stderr",
     "output_type": "stream",
     "text": [
      "Mon 28 May 2018 21:27:22 INFO <ipython-input-3-fd2e0f5d7f53> 59 75480 step 1150: training accuracy 0.421875, loss is 6.94807 (0.115 sec)\n"
     ]
    },
    {
     "name": "stdout",
     "output_type": "stream",
     "text": [
      "Step 1150, train loss = 6.95, train accuracy = 42.19%\n"
     ]
    },
    {
     "name": "stderr",
     "output_type": "stream",
     "text": [
      "Mon 28 May 2018 21:27:28 INFO <ipython-input-3-fd2e0f5d7f53> 59 75480 step 1200: training accuracy 0.53125, loss is 6.75976 (0.127 sec)\n"
     ]
    },
    {
     "name": "stdout",
     "output_type": "stream",
     "text": [
      "Step 1200, train loss = 6.76, train accuracy = 53.12%\n"
     ]
    },
    {
     "name": "stderr",
     "output_type": "stream",
     "text": [
      "Mon 28 May 2018 21:27:28 INFO <ipython-input-3-fd2e0f5d7f53> 76 75480 step 1200: validation accuracy 0.53125, loss is 6.75976 (0.366 sec)\n"
     ]
    },
    {
     "name": "stdout",
     "output_type": "stream",
     "text": [
      "**  Step 1200, val loss = 6.98, val accuracy = 39.06%  **\n"
     ]
    },
    {
     "name": "stderr",
     "output_type": "stream",
     "text": [
      "Mon 28 May 2018 21:27:34 INFO <ipython-input-3-fd2e0f5d7f53> 59 75480 step 1250: training accuracy 0.3125, loss is 7.36983 (0.123 sec)\n"
     ]
    },
    {
     "name": "stdout",
     "output_type": "stream",
     "text": [
      "Step 1250, train loss = 7.37, train accuracy = 31.25%\n"
     ]
    },
    {
     "name": "stderr",
     "output_type": "stream",
     "text": [
      "Mon 28 May 2018 21:27:40 INFO <ipython-input-3-fd2e0f5d7f53> 59 75480 step 1300: training accuracy 0.453125, loss is 5.89051 (0.112 sec)\n"
     ]
    },
    {
     "name": "stdout",
     "output_type": "stream",
     "text": [
      "Step 1300, train loss = 5.89, train accuracy = 45.31%\n"
     ]
    },
    {
     "name": "stderr",
     "output_type": "stream",
     "text": [
      "Mon 28 May 2018 21:27:40 INFO <ipython-input-3-fd2e0f5d7f53> 76 75480 step 1300: validation accuracy 0.453125, loss is 5.89051 (0.348 sec)\n"
     ]
    },
    {
     "name": "stdout",
     "output_type": "stream",
     "text": [
      "**  Step 1300, val loss = 6.92, val accuracy = 46.88%  **\n"
     ]
    },
    {
     "name": "stderr",
     "output_type": "stream",
     "text": [
      "Mon 28 May 2018 21:27:46 INFO <ipython-input-3-fd2e0f5d7f53> 59 75480 step 1350: training accuracy 0.5, loss is 5.87735 (0.116 sec)\n"
     ]
    },
    {
     "name": "stdout",
     "output_type": "stream",
     "text": [
      "Step 1350, train loss = 5.88, train accuracy = 50.00%\n"
     ]
    },
    {
     "name": "stderr",
     "output_type": "stream",
     "text": [
      "Mon 28 May 2018 21:27:52 INFO <ipython-input-3-fd2e0f5d7f53> 59 75480 step 1400: training accuracy 0.515625, loss is 5.30836 (0.117 sec)\n"
     ]
    },
    {
     "name": "stdout",
     "output_type": "stream",
     "text": [
      "Step 1400, train loss = 5.31, train accuracy = 51.56%\n"
     ]
    },
    {
     "name": "stderr",
     "output_type": "stream",
     "text": [
      "Mon 28 May 2018 21:27:53 INFO <ipython-input-3-fd2e0f5d7f53> 76 75480 step 1400: validation accuracy 0.515625, loss is 5.30836 (0.349 sec)\n"
     ]
    },
    {
     "name": "stdout",
     "output_type": "stream",
     "text": [
      "**  Step 1400, val loss = 5.54, val accuracy = 48.44%  **\n"
     ]
    },
    {
     "name": "stderr",
     "output_type": "stream",
     "text": [
      "Mon 28 May 2018 21:27:59 INFO <ipython-input-3-fd2e0f5d7f53> 59 75480 step 1450: training accuracy 0.46875, loss is 5.28756 (0.120 sec)\n"
     ]
    },
    {
     "name": "stdout",
     "output_type": "stream",
     "text": [
      "Step 1450, train loss = 5.29, train accuracy = 46.88%\n"
     ]
    },
    {
     "name": "stderr",
     "output_type": "stream",
     "text": [
      "Mon 28 May 2018 21:28:05 INFO <ipython-input-3-fd2e0f5d7f53> 59 75480 step 1500: training accuracy 0.359375, loss is 7.84698 (0.128 sec)\n"
     ]
    },
    {
     "name": "stdout",
     "output_type": "stream",
     "text": [
      "Step 1500, train loss = 7.85, train accuracy = 35.94%\n"
     ]
    },
    {
     "name": "stderr",
     "output_type": "stream",
     "text": [
      "Mon 28 May 2018 21:28:05 INFO <ipython-input-3-fd2e0f5d7f53> 76 75480 step 1500: validation accuracy 0.359375, loss is 7.84698 (0.370 sec)\n"
     ]
    },
    {
     "name": "stdout",
     "output_type": "stream",
     "text": [
      "**  Step 1500, val loss = 5.97, val accuracy = 48.44%  **\n"
     ]
    },
    {
     "name": "stderr",
     "output_type": "stream",
     "text": [
      "Mon 28 May 2018 21:28:11 INFO <ipython-input-3-fd2e0f5d7f53> 59 75480 step 1550: training accuracy 0.34375, loss is 8.49108 (0.116 sec)\n"
     ]
    },
    {
     "name": "stdout",
     "output_type": "stream",
     "text": [
      "Step 1550, train loss = 8.49, train accuracy = 34.38%\n"
     ]
    },
    {
     "name": "stderr",
     "output_type": "stream",
     "text": [
      "Mon 28 May 2018 21:28:17 INFO <ipython-input-3-fd2e0f5d7f53> 59 75480 step 1600: training accuracy 0.421875, loss is 7.33603 (0.115 sec)\n"
     ]
    },
    {
     "name": "stdout",
     "output_type": "stream",
     "text": [
      "Step 1600, train loss = 7.34, train accuracy = 42.19%\n"
     ]
    },
    {
     "name": "stderr",
     "output_type": "stream",
     "text": [
      "Mon 28 May 2018 21:28:17 INFO <ipython-input-3-fd2e0f5d7f53> 76 75480 step 1600: validation accuracy 0.421875, loss is 7.33603 (0.356 sec)\n"
     ]
    },
    {
     "name": "stdout",
     "output_type": "stream",
     "text": [
      "**  Step 1600, val loss = 5.57, val accuracy = 48.44%  **\n"
     ]
    },
    {
     "name": "stderr",
     "output_type": "stream",
     "text": [
      "Mon 28 May 2018 21:28:23 INFO <ipython-input-3-fd2e0f5d7f53> 59 75480 step 1650: training accuracy 0.40625, loss is 5.33418 (0.116 sec)\n"
     ]
    },
    {
     "name": "stdout",
     "output_type": "stream",
     "text": [
      "Step 1650, train loss = 5.33, train accuracy = 40.62%\n"
     ]
    },
    {
     "name": "stderr",
     "output_type": "stream",
     "text": [
      "Mon 28 May 2018 21:28:30 INFO <ipython-input-3-fd2e0f5d7f53> 59 75480 step 1700: training accuracy 0.34375, loss is 7.07184 (0.115 sec)\n"
     ]
    },
    {
     "name": "stdout",
     "output_type": "stream",
     "text": [
      "Step 1700, train loss = 7.07, train accuracy = 34.38%\n"
     ]
    },
    {
     "name": "stderr",
     "output_type": "stream",
     "text": [
      "Mon 28 May 2018 21:28:30 INFO <ipython-input-3-fd2e0f5d7f53> 76 75480 step 1700: validation accuracy 0.34375, loss is 7.07184 (0.356 sec)\n"
     ]
    },
    {
     "name": "stdout",
     "output_type": "stream",
     "text": [
      "**  Step 1700, val loss = 5.21, val accuracy = 45.31%  **\n"
     ]
    },
    {
     "name": "stderr",
     "output_type": "stream",
     "text": [
      "Mon 28 May 2018 21:28:36 INFO <ipython-input-3-fd2e0f5d7f53> 59 75480 step 1750: training accuracy 0.46875, loss is 5.08686 (0.126 sec)\n"
     ]
    },
    {
     "name": "stdout",
     "output_type": "stream",
     "text": [
      "Step 1750, train loss = 5.09, train accuracy = 46.88%\n"
     ]
    },
    {
     "name": "stderr",
     "output_type": "stream",
     "text": [
      "Mon 28 May 2018 21:28:42 INFO <ipython-input-3-fd2e0f5d7f53> 59 75480 step 1800: training accuracy 0.3125, loss is 6.80133 (0.119 sec)\n"
     ]
    },
    {
     "name": "stdout",
     "output_type": "stream",
     "text": [
      "Step 1800, train loss = 6.80, train accuracy = 31.25%\n"
     ]
    },
    {
     "name": "stderr",
     "output_type": "stream",
     "text": [
      "Mon 28 May 2018 21:28:42 INFO <ipython-input-3-fd2e0f5d7f53> 76 75480 step 1800: validation accuracy 0.3125, loss is 6.80133 (0.348 sec)\n"
     ]
    },
    {
     "name": "stdout",
     "output_type": "stream",
     "text": [
      "**  Step 1800, val loss = 4.69, val accuracy = 51.56%  **\n"
     ]
    },
    {
     "name": "stderr",
     "output_type": "stream",
     "text": [
      "Mon 28 May 2018 21:28:48 INFO <ipython-input-3-fd2e0f5d7f53> 59 75480 step 1850: training accuracy 0.421875, loss is 6.74535 (0.118 sec)\n"
     ]
    },
    {
     "name": "stdout",
     "output_type": "stream",
     "text": [
      "Step 1850, train loss = 6.75, train accuracy = 42.19%\n"
     ]
    },
    {
     "name": "stderr",
     "output_type": "stream",
     "text": [
      "Mon 28 May 2018 21:28:54 INFO <ipython-input-3-fd2e0f5d7f53> 59 75480 step 1900: training accuracy 0.453125, loss is 5.52268 (0.114 sec)\n"
     ]
    },
    {
     "name": "stdout",
     "output_type": "stream",
     "text": [
      "Step 1900, train loss = 5.52, train accuracy = 45.31%\n"
     ]
    },
    {
     "name": "stderr",
     "output_type": "stream",
     "text": [
      "Mon 28 May 2018 21:28:54 INFO <ipython-input-3-fd2e0f5d7f53> 76 75480 step 1900: validation accuracy 0.453125, loss is 5.52268 (0.350 sec)\n"
     ]
    },
    {
     "name": "stdout",
     "output_type": "stream",
     "text": [
      "**  Step 1900, val loss = 5.78, val accuracy = 48.44%  **\n"
     ]
    },
    {
     "name": "stderr",
     "output_type": "stream",
     "text": [
      "Mon 28 May 2018 21:29:01 INFO <ipython-input-3-fd2e0f5d7f53> 59 75480 step 1950: training accuracy 0.421875, loss is 6.10183 (0.114 sec)\n"
     ]
    },
    {
     "name": "stdout",
     "output_type": "stream",
     "text": [
      "Step 1950, train loss = 6.10, train accuracy = 42.19%\n"
     ]
    },
    {
     "name": "stderr",
     "output_type": "stream",
     "text": [
      "Mon 28 May 2018 21:29:07 INFO <ipython-input-3-fd2e0f5d7f53> 59 75480 step 2000: training accuracy 0.484375, loss is 5.85866 (0.122 sec)\n"
     ]
    },
    {
     "name": "stdout",
     "output_type": "stream",
     "text": [
      "Step 2000, train loss = 5.86, train accuracy = 48.44%\n"
     ]
    },
    {
     "name": "stderr",
     "output_type": "stream",
     "text": [
      "Mon 28 May 2018 21:29:07 INFO <ipython-input-3-fd2e0f5d7f53> 76 75480 step 2000: validation accuracy 0.484375, loss is 5.85866 (0.361 sec)\n"
     ]
    },
    {
     "name": "stdout",
     "output_type": "stream",
     "text": [
      "**  Step 2000, val loss = 5.79, val accuracy = 40.62%  **\n"
     ]
    },
    {
     "name": "stderr",
     "output_type": "stream",
     "text": [
      "Mon 28 May 2018 21:29:13 INFO <ipython-input-3-fd2e0f5d7f53> 59 75480 step 2050: training accuracy 0.53125, loss is 5.63755 (0.118 sec)\n"
     ]
    },
    {
     "name": "stdout",
     "output_type": "stream",
     "text": [
      "Step 2050, train loss = 5.64, train accuracy = 53.12%\n"
     ]
    },
    {
     "name": "stderr",
     "output_type": "stream",
     "text": [
      "Mon 28 May 2018 21:29:19 INFO <ipython-input-3-fd2e0f5d7f53> 59 75480 step 2100: training accuracy 0.4375, loss is 5.62007 (0.130 sec)\n"
     ]
    },
    {
     "name": "stdout",
     "output_type": "stream",
     "text": [
      "Step 2100, train loss = 5.62, train accuracy = 43.75%\n"
     ]
    },
    {
     "name": "stderr",
     "output_type": "stream",
     "text": [
      "Mon 28 May 2018 21:29:19 INFO <ipython-input-3-fd2e0f5d7f53> 76 75480 step 2100: validation accuracy 0.4375, loss is 5.62007 (0.366 sec)\n"
     ]
    },
    {
     "name": "stdout",
     "output_type": "stream",
     "text": [
      "**  Step 2100, val loss = 7.33, val accuracy = 35.94%  **\n"
     ]
    },
    {
     "name": "stderr",
     "output_type": "stream",
     "text": [
      "Mon 28 May 2018 21:29:26 INFO <ipython-input-3-fd2e0f5d7f53> 59 75480 step 2150: training accuracy 0.5, loss is 5.16379 (0.118 sec)\n"
     ]
    },
    {
     "name": "stdout",
     "output_type": "stream",
     "text": [
      "Step 2150, train loss = 5.16, train accuracy = 50.00%\n"
     ]
    },
    {
     "name": "stderr",
     "output_type": "stream",
     "text": [
      "Mon 28 May 2018 21:29:32 INFO <ipython-input-3-fd2e0f5d7f53> 59 75480 step 2200: training accuracy 0.515625, loss is 5.61401 (0.127 sec)\n"
     ]
    },
    {
     "name": "stdout",
     "output_type": "stream",
     "text": [
      "Step 2200, train loss = 5.61, train accuracy = 51.56%\n"
     ]
    },
    {
     "name": "stderr",
     "output_type": "stream",
     "text": [
      "Mon 28 May 2018 21:29:32 INFO <ipython-input-3-fd2e0f5d7f53> 76 75480 step 2200: validation accuracy 0.515625, loss is 5.61401 (0.365 sec)\n"
     ]
    },
    {
     "name": "stdout",
     "output_type": "stream",
     "text": [
      "**  Step 2200, val loss = 6.61, val accuracy = 34.38%  **\n"
     ]
    },
    {
     "name": "stderr",
     "output_type": "stream",
     "text": [
      "Mon 28 May 2018 21:29:38 INFO <ipython-input-3-fd2e0f5d7f53> 59 75480 step 2250: training accuracy 0.421875, loss is 5.75599 (0.123 sec)\n"
     ]
    },
    {
     "name": "stdout",
     "output_type": "stream",
     "text": [
      "Step 2250, train loss = 5.76, train accuracy = 42.19%\n"
     ]
    },
    {
     "name": "stderr",
     "output_type": "stream",
     "text": [
      "Mon 28 May 2018 21:29:44 INFO <ipython-input-3-fd2e0f5d7f53> 59 75480 step 2300: training accuracy 0.46875, loss is 5.77854 (0.119 sec)\n"
     ]
    },
    {
     "name": "stdout",
     "output_type": "stream",
     "text": [
      "Step 2300, train loss = 5.78, train accuracy = 46.88%\n"
     ]
    },
    {
     "name": "stderr",
     "output_type": "stream",
     "text": [
      "Mon 28 May 2018 21:29:44 INFO <ipython-input-3-fd2e0f5d7f53> 76 75480 step 2300: validation accuracy 0.46875, loss is 5.77854 (0.354 sec)\n"
     ]
    },
    {
     "name": "stdout",
     "output_type": "stream",
     "text": [
      "**  Step 2300, val loss = 7.54, val accuracy = 39.06%  **\n"
     ]
    },
    {
     "name": "stderr",
     "output_type": "stream",
     "text": [
      "Mon 28 May 2018 21:29:50 INFO <ipython-input-3-fd2e0f5d7f53> 59 75480 step 2350: training accuracy 0.421875, loss is 8.01025 (0.120 sec)\n"
     ]
    },
    {
     "name": "stdout",
     "output_type": "stream",
     "text": [
      "Step 2350, train loss = 8.01, train accuracy = 42.19%\n"
     ]
    },
    {
     "name": "stderr",
     "output_type": "stream",
     "text": [
      "Mon 28 May 2018 21:29:56 INFO <ipython-input-3-fd2e0f5d7f53> 59 75480 step 2400: training accuracy 0.453125, loss is 6.42272 (0.114 sec)\n"
     ]
    },
    {
     "name": "stdout",
     "output_type": "stream",
     "text": [
      "Step 2400, train loss = 6.42, train accuracy = 45.31%\n"
     ]
    },
    {
     "name": "stderr",
     "output_type": "stream",
     "text": [
      "Mon 28 May 2018 21:29:57 INFO <ipython-input-3-fd2e0f5d7f53> 76 75480 step 2400: validation accuracy 0.453125, loss is 6.42272 (0.357 sec)\n"
     ]
    },
    {
     "name": "stdout",
     "output_type": "stream",
     "text": [
      "**  Step 2400, val loss = 5.16, val accuracy = 48.44%  **\n"
     ]
    },
    {
     "name": "stderr",
     "output_type": "stream",
     "text": [
      "Mon 28 May 2018 21:30:03 INFO <ipython-input-3-fd2e0f5d7f53> 59 75480 step 2450: training accuracy 0.46875, loss is 6.63327 (0.114 sec)\n"
     ]
    },
    {
     "name": "stdout",
     "output_type": "stream",
     "text": [
      "Step 2450, train loss = 6.63, train accuracy = 46.88%\n"
     ]
    },
    {
     "name": "stderr",
     "output_type": "stream",
     "text": [
      "Mon 28 May 2018 21:30:09 INFO <ipython-input-3-fd2e0f5d7f53> 59 75480 step 2500: training accuracy 0.46875, loss is 5.27702 (0.116 sec)\n"
     ]
    },
    {
     "name": "stdout",
     "output_type": "stream",
     "text": [
      "Step 2500, train loss = 5.28, train accuracy = 46.88%\n"
     ]
    },
    {
     "name": "stderr",
     "output_type": "stream",
     "text": [
      "Mon 28 May 2018 21:30:09 INFO <ipython-input-3-fd2e0f5d7f53> 76 75480 step 2500: validation accuracy 0.46875, loss is 5.27702 (0.318 sec)\n"
     ]
    },
    {
     "name": "stdout",
     "output_type": "stream",
     "text": [
      "**  Step 2500, val loss = 6.65, val accuracy = 37.50%  **\n"
     ]
    },
    {
     "name": "stderr",
     "output_type": "stream",
     "text": [
      "Mon 28 May 2018 21:30:15 INFO <ipython-input-3-fd2e0f5d7f53> 59 75480 step 2550: training accuracy 0.4375, loss is 6.14024 (0.115 sec)\n"
     ]
    },
    {
     "name": "stdout",
     "output_type": "stream",
     "text": [
      "Step 2550, train loss = 6.14, train accuracy = 43.75%\n"
     ]
    },
    {
     "name": "stderr",
     "output_type": "stream",
     "text": [
      "Mon 28 May 2018 21:30:21 INFO <ipython-input-3-fd2e0f5d7f53> 59 75480 step 2600: training accuracy 0.359375, loss is 6.79415 (0.130 sec)\n"
     ]
    },
    {
     "name": "stdout",
     "output_type": "stream",
     "text": [
      "Step 2600, train loss = 6.79, train accuracy = 35.94%\n"
     ]
    },
    {
     "name": "stderr",
     "output_type": "stream",
     "text": [
      "Mon 28 May 2018 21:30:22 INFO <ipython-input-3-fd2e0f5d7f53> 76 75480 step 2600: validation accuracy 0.359375, loss is 6.79415 (0.431 sec)\n"
     ]
    },
    {
     "name": "stdout",
     "output_type": "stream",
     "text": [
      "**  Step 2600, val loss = 7.95, val accuracy = 40.62%  **\n"
     ]
    },
    {
     "name": "stderr",
     "output_type": "stream",
     "text": [
      "Mon 28 May 2018 21:30:28 INFO <ipython-input-3-fd2e0f5d7f53> 59 75480 step 2650: training accuracy 0.40625, loss is 6.90292 (0.121 sec)\n"
     ]
    },
    {
     "name": "stdout",
     "output_type": "stream",
     "text": [
      "Step 2650, train loss = 6.90, train accuracy = 40.62%\n"
     ]
    },
    {
     "name": "stderr",
     "output_type": "stream",
     "text": [
      "Mon 28 May 2018 21:30:34 INFO <ipython-input-3-fd2e0f5d7f53> 59 75480 step 2700: training accuracy 0.453125, loss is 7.42291 (0.119 sec)\n"
     ]
    },
    {
     "name": "stdout",
     "output_type": "stream",
     "text": [
      "Step 2700, train loss = 7.42, train accuracy = 45.31%\n"
     ]
    },
    {
     "name": "stderr",
     "output_type": "stream",
     "text": [
      "Mon 28 May 2018 21:30:34 INFO <ipython-input-3-fd2e0f5d7f53> 76 75480 step 2700: validation accuracy 0.453125, loss is 7.42291 (0.368 sec)\n"
     ]
    },
    {
     "name": "stdout",
     "output_type": "stream",
     "text": [
      "**  Step 2700, val loss = 5.65, val accuracy = 54.69%  **\n"
     ]
    },
    {
     "name": "stderr",
     "output_type": "stream",
     "text": [
      "Mon 28 May 2018 21:30:40 INFO <ipython-input-3-fd2e0f5d7f53> 59 75480 step 2750: training accuracy 0.5, loss is 6.13378 (0.115 sec)\n"
     ]
    },
    {
     "name": "stdout",
     "output_type": "stream",
     "text": [
      "Step 2750, train loss = 6.13, train accuracy = 50.00%\n"
     ]
    },
    {
     "name": "stderr",
     "output_type": "stream",
     "text": [
      "Mon 28 May 2018 21:30:46 INFO <ipython-input-3-fd2e0f5d7f53> 59 75480 step 2800: training accuracy 0.484375, loss is 6.08866 (0.117 sec)\n"
     ]
    },
    {
     "name": "stdout",
     "output_type": "stream",
     "text": [
      "Step 2800, train loss = 6.09, train accuracy = 48.44%\n"
     ]
    },
    {
     "name": "stderr",
     "output_type": "stream",
     "text": [
      "Mon 28 May 2018 21:30:46 INFO <ipython-input-3-fd2e0f5d7f53> 76 75480 step 2800: validation accuracy 0.484375, loss is 6.08866 (0.363 sec)\n"
     ]
    },
    {
     "name": "stdout",
     "output_type": "stream",
     "text": [
      "**  Step 2800, val loss = 6.49, val accuracy = 50.00%  **\n"
     ]
    },
    {
     "name": "stderr",
     "output_type": "stream",
     "text": [
      "Mon 28 May 2018 21:30:53 INFO <ipython-input-3-fd2e0f5d7f53> 59 75480 step 2850: training accuracy 0.359375, loss is 7.91447 (0.120 sec)\n"
     ]
    },
    {
     "name": "stdout",
     "output_type": "stream",
     "text": [
      "Step 2850, train loss = 7.91, train accuracy = 35.94%\n"
     ]
    }
   ],
   "source": [
    "begin = datetime.datetime.now()\n",
    "run_training()\n",
    "end = datetime.datetime.now()\n",
    "print(\"Training time is: \", end - begin)"
   ]
  },
  {
   "cell_type": "markdown",
   "metadata": {},
   "source": [
    "## 评估"
   ]
  },
  {
   "cell_type": "code",
   "execution_count": null,
   "metadata": {},
   "outputs": [],
   "source": [
    "def evaluate():\n",
    "    tf.reset_default_graph()\n",
    "    batch_size = 1\n",
    "\n",
    "    with tf.Graph().as_default():\n",
    "        test_images, test_label = data_process.get_files(test_dir, 0, False)  # 获取测试图片的地址\n",
    "\n",
    "        features = tf.placeholder(\"float32\", shape=[batch_size, IMG_H, IMG_W, IMG_C],\n",
    "                                  name=\"features\")\n",
    "        labels = tf.placeholder(\"int32\", [batch_size], name=\"labels\")\n",
    "        one_hot_labels = tf.one_hot(indices=tf.cast(labels, tf.int32), depth=N_CLASSES)\n",
    "\n",
    "        train_step, cross_entropy, logits, keep_prob = model.inference(features, one_hot_labels, batch_size, N_CLASSES)\n",
    "        values, indices = tf.nn.top_k(logits, 1)\n",
    "\n",
    "        accuracy = model.evaluation(logits, labels)\n",
    "\n",
    "        with tf.Session() as sess:\n",
    "            saver = tf.train.Saver()\n",
    "            ckpt = tf.train.get_checkpoint_state(logs_train_dir)\n",
    "            if ckpt and ckpt.model_checkpoint_path:\n",
    "                print('Restore the model from checkpoint %s' % ckpt.model_checkpoint_path)\n",
    "                # Restores from checkpoint\n",
    "                global_step = ckpt.model_checkpoint_path.split('/')[-1].split('-')[-1]\n",
    "                saver.restore(sess, ckpt.model_checkpoint_path)\n",
    "                print('Loading success, global_step is %s' % global_step)\n",
    "            else:\n",
    "                raise Exception('no checkpoint find')\n",
    "\n",
    "            result = []\n",
    "            total_acc = 0.0\n",
    "            for i, test_image in enumerate(test_images):\n",
    "                temp_dict = {}\n",
    "                image = mping.imread(test_image)\n",
    "                # print(image.shape)  # (468, 1316, 3)\n",
    "                image = tf.image.resize_image_with_crop_or_pad(image, IMG_H, IMG_W)\n",
    "                x = tf.image.per_image_standardization(image)\n",
    "                x = sess.run(x)  # 将tensor转化为数组\n",
    "\n",
    "                predictions = np.squeeze(\n",
    "                    sess.run(indices, feed_dict={features: np.expand_dims(x, axis=0), keep_prob: 1}), axis=0)\n",
    "                temp_dict['image_id'] = test_image\n",
    "                temp_dict['label_id'] = predictions.tolist()[0]\n",
    "                result.append(temp_dict)\n",
    "#                 print('image %s is %d' % (test_image, predictions[0]))\n",
    "\n",
    "                # 每次预测的准确率\n",
    "                accuracies = sess.run(accuracy, feed_dict={features: np.expand_dims(x, axis=0),\n",
    "                                                           labels: np.expand_dims(test_label[i], axis=0), keep_prob: 1.0})\n",
    "                # 计算总的准确率\n",
    "                total_acc += np.sum(accuracies)\n",
    "\n",
    "            print(\"Final Testing Accurate: \", total_acc / len(test_images))\n",
    "\n",
    "            df = pd.DataFrame(result)\n",
    "            df.to_csv(\"result.csv\")\n",
    "\n"
   ]
  },
  {
   "cell_type": "code",
   "execution_count": null,
   "metadata": {},
   "outputs": [],
   "source": [
    "evaluate()"
   ]
  },
  {
   "cell_type": "code",
   "execution_count": null,
   "metadata": {},
   "outputs": [],
   "source": []
  },
  {
   "cell_type": "code",
   "execution_count": null,
   "metadata": {},
   "outputs": [],
   "source": []
  }
 ],
 "metadata": {
  "kernelspec": {
   "display_name": "Python 3",
   "language": "python",
   "name": "python3"
  },
  "language_info": {
   "codemirror_mode": {
    "name": "ipython",
    "version": 3
   },
   "file_extension": ".py",
   "mimetype": "text/x-python",
   "name": "python",
   "nbconvert_exporter": "python",
   "pygments_lexer": "ipython3",
   "version": "3.6.5"
  }
 },
 "nbformat": 4,
 "nbformat_minor": 2
}
